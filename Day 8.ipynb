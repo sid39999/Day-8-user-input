{
 "cells": [
  {
   "cell_type": "markdown",
   "id": "d85aef7b",
   "metadata": {},
   "source": [
    "# How to take user input in python?"
   ]
  },
  {
   "cell_type": "raw",
   "id": "05b7bb3a",
   "metadata": {},
   "source": [
    "we can take user input directly by using input() function."
   ]
  },
  {
   "cell_type": "code",
   "execution_count": 1,
   "id": "feec059b",
   "metadata": {},
   "outputs": [
    {
     "name": "stdout",
     "output_type": "stream",
     "text": [
      "4\n"
     ]
    }
   ],
   "source": [
    "print(2+2)"
   ]
  },
  {
   "cell_type": "code",
   "execution_count": 3,
   "id": "b44c36b7",
   "metadata": {},
   "outputs": [
    {
     "name": "stdout",
     "output_type": "stream",
     "text": [
      "enter your name: utkarssh\n",
      "hello utkarssh\n"
     ]
    }
   ],
   "source": [
    "a = input('enter your name: ')\n",
    "print(\"hello\",a)"
   ]
  },
  {
   "cell_type": "code",
   "execution_count": 8,
   "id": "9f80710a",
   "metadata": {},
   "outputs": [
    {
     "name": "stdout",
     "output_type": "stream",
     "text": [
      "enter your 1st number: 2.3\n"
     ]
    },
    {
     "ename": "ValueError",
     "evalue": "invalid literal for int() with base 10: '2.3'",
     "output_type": "error",
     "traceback": [
      "\u001b[1;31m---------------------------------------------------------------------------\u001b[0m",
      "\u001b[1;31mValueError\u001b[0m                                Traceback (most recent call last)",
      "Cell \u001b[1;32mIn[8], line 1\u001b[0m\n\u001b[1;32m----> 1\u001b[0m b \u001b[38;5;241m=\u001b[39m \u001b[38;5;28mint\u001b[39m(\u001b[38;5;28minput\u001b[39m(\u001b[38;5;124m'\u001b[39m\u001b[38;5;124menter your 1st number: \u001b[39m\u001b[38;5;124m'\u001b[39m))     \u001b[38;5;66;03m#str\u001b[39;00m\n\u001b[0;32m      2\u001b[0m c \u001b[38;5;241m=\u001b[39m \u001b[38;5;28mint\u001b[39m(\u001b[38;5;28minput\u001b[39m(\u001b[38;5;124m'\u001b[39m\u001b[38;5;124menter your 2nd number: \u001b[39m\u001b[38;5;124m'\u001b[39m))     \u001b[38;5;66;03m#string\u001b[39;00m\n\u001b[0;32m      4\u001b[0m \u001b[38;5;28mprint\u001b[39m(c\u001b[38;5;241m+\u001b[39mb)\n",
      "\u001b[1;31mValueError\u001b[0m: invalid literal for int() with base 10: '2.3'"
     ]
    }
   ],
   "source": [
    "b = int(input('enter your 1st number: '))     #str\n",
    "c = int(input('enter your 2nd number: '))     #string\n",
    "\n",
    "print(c+b)"
   ]
  },
  {
   "cell_type": "code",
   "execution_count": 9,
   "id": "36faba4e",
   "metadata": {},
   "outputs": [
    {
     "name": "stdout",
     "output_type": "stream",
     "text": [
      "enter your 1st number: 3.2\n",
      "enter your 2nd number: 2.3\n",
      "5.5\n"
     ]
    }
   ],
   "source": [
    "m = float(input('enter your 1st number: '))     \n",
    "n = float(input('enter your 2nd number: '))     \n",
    "\n",
    "print(m+n)"
   ]
  },
  {
   "cell_type": "code",
   "execution_count": 10,
   "id": "35c61b44",
   "metadata": {},
   "outputs": [
    {
     "name": "stdout",
     "output_type": "stream",
     "text": [
      "enter your name sanchit\n",
      "enter your age 23\n",
      "hello! sanchit your age is  23\n"
     ]
    }
   ],
   "source": [
    "name = input('enter your name ')\n",
    "age = input('enter your age ')\n",
    "\n",
    "print('hello!', name, \"your age is \",age)"
   ]
  },
  {
   "cell_type": "code",
   "execution_count": null,
   "id": "9e680b2b",
   "metadata": {},
   "outputs": [],
   "source": []
  }
 ],
 "metadata": {
  "kernelspec": {
   "display_name": "Python 3 (ipykernel)",
   "language": "python",
   "name": "python3"
  },
  "language_info": {
   "codemirror_mode": {
    "name": "ipython",
    "version": 3
   },
   "file_extension": ".py",
   "mimetype": "text/x-python",
   "name": "python",
   "nbconvert_exporter": "python",
   "pygments_lexer": "ipython3",
   "version": "3.11.5"
  }
 },
 "nbformat": 4,
 "nbformat_minor": 5
}
